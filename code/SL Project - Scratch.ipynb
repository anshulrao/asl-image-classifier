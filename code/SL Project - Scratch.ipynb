{
 "cells": [
  {
   "cell_type": "code",
   "execution_count": 1,
   "id": "780f177c-263d-4df6-ad91-1114662c3dc6",
   "metadata": {},
   "outputs": [],
   "source": [
    "import torchvision\n",
    "import torch\n",
    "import torch.nn as nn\n",
    "from torchsummary import summary"
   ]
  },
  {
   "cell_type": "code",
   "execution_count": 2,
   "id": "d912e174-176b-42cc-9518-a5748bb2cc4e",
   "metadata": {},
   "outputs": [],
   "source": [
    "from torchvision import transforms, datasets\n",
    "import matplotlib.pyplot as plt\n",
    "from tqdm import tqdm"
   ]
  },
  {
   "cell_type": "code",
   "execution_count": 3,
   "id": "256ee002-56f5-4ffc-bda4-7431d5989fea",
   "metadata": {},
   "outputs": [],
   "source": [
    "import pandas as pd\n",
    "import seaborn as sns\n",
    "import matplotlib.pyplot as plt"
   ]
  },
  {
   "cell_type": "code",
   "execution_count": 4,
   "id": "5306fd76-5d0b-467d-8fef-387c3e315cee",
   "metadata": {},
   "outputs": [],
   "source": [
    "sns.set_style(\"darkgrid\")"
   ]
  },
  {
   "cell_type": "code",
   "execution_count": 5,
   "id": "c185a4f8-2dcd-420b-aaa3-480df531a438",
   "metadata": {},
   "outputs": [],
   "source": [
    "transform = transforms.Compose([\n",
    "    transforms.ToTensor()\n",
    "])"
   ]
  },
  {
   "cell_type": "code",
   "execution_count": 6,
   "id": "9c22ed48-a254-4309-acde-22d2f99c41bd",
   "metadata": {},
   "outputs": [],
   "source": [
    "PATH = \"../../data/asl_alphabet_train/\""
   ]
  },
  {
   "cell_type": "code",
   "execution_count": 7,
   "id": "924b00ec-62f3-482c-8349-1a4445a02ef7",
   "metadata": {},
   "outputs": [],
   "source": [
    "dataset = datasets.ImageFolder(PATH, transform=transform)"
   ]
  },
  {
   "cell_type": "code",
   "execution_count": 8,
   "id": "89b3927d-d2f1-4382-8036-0d6a8f77bf95",
   "metadata": {},
   "outputs": [],
   "source": [
    "n = len(dataset)"
   ]
  },
  {
   "cell_type": "code",
   "execution_count": 9,
   "id": "655c60e4-e93f-464b-aba2-e68d18e56751",
   "metadata": {},
   "outputs": [],
   "source": [
    "torch.manual_seed(1)\n",
    "indices = torch.randperm(n)"
   ]
  },
  {
   "cell_type": "code",
   "execution_count": 10,
   "id": "56f6e0a1-e54e-4d1d-a6e3-a0d82ea573a3",
   "metadata": {},
   "outputs": [],
   "source": [
    "test_proportion = 0.2 # 20 percent of data used for testing\n",
    "test_size = int(n * test_proportion)"
   ]
  },
  {
   "cell_type": "code",
   "execution_count": 11,
   "id": "89df7938-bb73-4875-90d9-feea7dcee95f",
   "metadata": {},
   "outputs": [],
   "source": [
    "train_dataset = torch.utils.data.Subset(dataset, indices[test_size:])\n",
    "test_dataset = torch.utils.data.Subset(dataset, indices[:test_size])"
   ]
  },
  {
   "cell_type": "code",
   "execution_count": 12,
   "id": "6f8fdba8-4aa6-409c-9588-a5f612bb588a",
   "metadata": {},
   "outputs": [
    {
     "data": {
      "text/plain": [
       "69600"
      ]
     },
     "execution_count": 12,
     "metadata": {},
     "output_type": "execute_result"
    }
   ],
   "source": [
    "len(train_dataset)"
   ]
  },
  {
   "cell_type": "code",
   "execution_count": 13,
   "id": "999cdcf8-e966-4152-b3e1-cbbc8a92bf13",
   "metadata": {},
   "outputs": [
    {
     "data": {
      "text/plain": [
       "17400"
      ]
     },
     "execution_count": 13,
     "metadata": {},
     "output_type": "execute_result"
    }
   ],
   "source": [
    "len(test_dataset)"
   ]
  },
  {
   "cell_type": "code",
   "execution_count": 14,
   "id": "af98233f-ce4c-494a-892b-62bd5feb831c",
   "metadata": {},
   "outputs": [],
   "source": [
    "DEVICE = torch.device('cuda' if torch.cuda.is_available() else 'cpu')"
   ]
  },
  {
   "cell_type": "code",
   "execution_count": 15,
   "id": "a628362e-3570-4eae-b8e3-e93c99de559a",
   "metadata": {},
   "outputs": [],
   "source": [
    "train_dataloader = torch.utils.data.DataLoader(dataset=train_dataset,\n",
    "                                               batch_size=32, \n",
    "                                               shuffle=True, \n",
    "                                               num_workers=4)\n",
    "\n",
    "test_dataloader = torch.utils.data.DataLoader(dataset=test_dataset,\n",
    "                                              batch_size=32,\n",
    "                                              shuffle=False,\n",
    "                                              num_workers=4)"
   ]
  },
  {
   "cell_type": "code",
   "execution_count": 16,
   "id": "e17764c1-6359-4a89-8c3a-2fd4a40166b6",
   "metadata": {},
   "outputs": [],
   "source": [
    "classes = dataset.classes"
   ]
  },
  {
   "cell_type": "code",
   "execution_count": 17,
   "id": "adbaa3e2-71c1-4712-8ee3-887bf52f5e51",
   "metadata": {},
   "outputs": [],
   "source": [
    "class ASLNeuralNet(nn.Module):\n",
    "    \n",
    "    def __init__(self, num_classes=1000):\n",
    "        super(ASLNeuralNet, self).__init__()\n",
    "        # declare all the layers for feature extraction\n",
    "        self.features = nn.Sequential(\n",
    "            nn.Conv2d(in_channels=3, out_channels=64, kernel_size=11, stride=4, padding=2),\n",
    "            nn.ReLU(inplace=True),\n",
    "            nn.MaxPool2d(kernel_size=2, stride=2),\n",
    "            nn.Conv2d(in_channels=64, out_channels=192, kernel_size=3, padding=2),\n",
    "            nn.ReLU(inplace=True),\n",
    "            nn.MaxPool2d(kernel_size=2, stride=2), \n",
    "            nn.Conv2d(in_channels=192, out_channels=256, kernel_size=3, padding=1),\n",
    "            nn.ReLU(inplace=True),\n",
    "            nn.MaxPool2d(kernel_size=2, stride=2),)\n",
    "        # declare all the layers for classification\n",
    "        self.classifier = nn.Sequential(\n",
    "            nn.Linear(6 * 6 * 256, 200),\n",
    "            nn.ReLU(inplace=True),\n",
    "            nn.Dropout(p=0.5),\n",
    "            nn.Linear(200, 500),\n",
    "            nn.ReLU(inplace=True),\n",
    "            nn.Linear(500, num_classes),)\n",
    "        \n",
    "    def forward(self, x):\n",
    "        # apply the feature extractor in the input\n",
    "        x = self.features(x)\n",
    "        # squeeze the spatial dimensions in one\n",
    "        x = x.view(-1, 6 * 6 * 256)\n",
    "        # classify the images\n",
    "        x = self.classifier(x) \n",
    "        return x"
   ]
  },
  {
   "cell_type": "code",
   "execution_count": 18,
   "id": "3bbb3459-387d-4bc6-9957-34ddb4479ea8",
   "metadata": {},
   "outputs": [],
   "source": [
    "model = ASLNeuralNet(num_classes=29).to(DEVICE)"
   ]
  },
  {
   "cell_type": "code",
   "execution_count": 19,
   "id": "4e2eb310-7909-4310-b8f5-72ffd1c8e338",
   "metadata": {},
   "outputs": [
    {
     "name": "stdout",
     "output_type": "stream",
     "text": [
      "ASLNeuralNet(\n",
      "  (features): Sequential(\n",
      "    (0): Conv2d(3, 64, kernel_size=(11, 11), stride=(4, 4), padding=(2, 2))\n",
      "    (1): ReLU(inplace=True)\n",
      "    (2): MaxPool2d(kernel_size=2, stride=2, padding=0, dilation=1, ceil_mode=False)\n",
      "    (3): Conv2d(64, 192, kernel_size=(3, 3), stride=(1, 1), padding=(2, 2))\n",
      "    (4): ReLU(inplace=True)\n",
      "    (5): MaxPool2d(kernel_size=2, stride=2, padding=0, dilation=1, ceil_mode=False)\n",
      "    (6): Conv2d(192, 256, kernel_size=(3, 3), stride=(1, 1), padding=(1, 1))\n",
      "    (7): ReLU(inplace=True)\n",
      "    (8): MaxPool2d(kernel_size=2, stride=2, padding=0, dilation=1, ceil_mode=False)\n",
      "  )\n",
      "  (classifier): Sequential(\n",
      "    (0): Linear(in_features=9216, out_features=200, bias=True)\n",
      "    (1): ReLU(inplace=True)\n",
      "    (2): Dropout(p=0.5, inplace=False)\n",
      "    (3): Linear(in_features=200, out_features=500, bias=True)\n",
      "    (4): ReLU(inplace=True)\n",
      "    (5): Linear(in_features=500, out_features=29, bias=True)\n",
      "  )\n",
      ")\n"
     ]
    }
   ],
   "source": [
    "# sanity check\n",
    "print(model)"
   ]
  },
  {
   "cell_type": "code",
   "execution_count": 20,
   "id": "dd6ddc77-4a5c-4dc1-88ed-d8b85e8fb5a7",
   "metadata": {},
   "outputs": [
    {
     "name": "stdout",
     "output_type": "stream",
     "text": [
      "----------------------------------------------------------------\n",
      "        Layer (type)               Output Shape         Param #\n",
      "================================================================\n",
      "            Conv2d-1           [-1, 64, 49, 49]          23,296\n",
      "              ReLU-2           [-1, 64, 49, 49]               0\n",
      "         MaxPool2d-3           [-1, 64, 24, 24]               0\n",
      "            Conv2d-4          [-1, 192, 26, 26]         110,784\n",
      "              ReLU-5          [-1, 192, 26, 26]               0\n",
      "         MaxPool2d-6          [-1, 192, 13, 13]               0\n",
      "            Conv2d-7          [-1, 256, 13, 13]         442,624\n",
      "              ReLU-8          [-1, 256, 13, 13]               0\n",
      "         MaxPool2d-9            [-1, 256, 6, 6]               0\n",
      "           Linear-10                  [-1, 200]       1,843,400\n",
      "             ReLU-11                  [-1, 200]               0\n",
      "          Dropout-12                  [-1, 200]               0\n",
      "           Linear-13                  [-1, 500]         100,500\n",
      "             ReLU-14                  [-1, 500]               0\n",
      "           Linear-15                   [-1, 29]          14,529\n",
      "================================================================\n",
      "Total params: 2,535,133\n",
      "Trainable params: 2,535,133\n",
      "Non-trainable params: 0\n",
      "----------------------------------------------------------------\n",
      "Input size (MB): 0.46\n",
      "Forward/backward pass size (MB): 5.60\n",
      "Params size (MB): 9.67\n",
      "Estimated Total Size (MB): 15.73\n",
      "----------------------------------------------------------------\n"
     ]
    }
   ],
   "source": [
    "from torchsummary import summary\n",
    "summary(model, (3, 200, 200))"
   ]
  },
  {
   "cell_type": "code",
   "execution_count": 21,
   "id": "ae8eb5ff-9188-452e-b8a5-4ff145760e23",
   "metadata": {},
   "outputs": [],
   "source": [
    "batch_size = 64"
   ]
  },
  {
   "cell_type": "code",
   "execution_count": 22,
   "id": "81497e93-e3e3-47e2-a819-cdd113ba68bb",
   "metadata": {},
   "outputs": [],
   "source": [
    "def train_one_epoch(train_loader, model, device, optimizer, log_interval, epoch):\n",
    "    model.train()\n",
    "    losses = []\n",
    "    counter = []\n",
    "    \n",
    "    for i, (img, label) in enumerate(train_loader):\n",
    "        img, label = img.to(device), label.to(device)\n",
    "        optimizer.zero_grad()\n",
    "        output = model(img)\n",
    "        loss = criterion(output, label)\n",
    "        loss.backward()\n",
    "        optimizer.step()   \n",
    "        if (i+1) % log_interval == 0:\n",
    "            losses.append(loss.item())\n",
    "            counter.append(\n",
    "                (i * batch_size) + img.size(0) + epoch * len(train_loader.dataset))\n",
    "\n",
    "    return losses, counter"
   ]
  },
  {
   "cell_type": "code",
   "execution_count": 23,
   "id": "6b6e1665-89ae-41fd-a3f6-2d0369b824f4",
   "metadata": {},
   "outputs": [],
   "source": [
    "def test_one_epoch(test_loader, model, device):\n",
    "    model.eval()\n",
    "    test_loss = 0\n",
    "    num_correct = 0\n",
    "    \n",
    "    with torch.no_grad():\n",
    "        for i, (img, label) in enumerate(test_loader):\n",
    "            img, label = img.to(device), label.to(device)\n",
    "            output = model(img)\n",
    "            pred = torch.argmax(output, dim=1)\n",
    "            num_correct += (pred == label).sum().item()\n",
    "            test_loss += criterion(output, label).item()\n",
    "            \n",
    "    test_loss /= len(test_loader.dataset)\n",
    "    return test_loss, num_correct"
   ]
  },
  {
   "cell_type": "code",
   "execution_count": 24,
   "id": "3039bddc-a3d3-46b5-abbf-9ce2ab07349b",
   "metadata": {},
   "outputs": [],
   "source": [
    "criterion = nn.CrossEntropyLoss()"
   ]
  },
  {
   "cell_type": "code",
   "execution_count": 25,
   "id": "9bb255c9-e471-4860-943d-57f32a0ed2a5",
   "metadata": {},
   "outputs": [],
   "source": [
    "no_of_epochs = 10"
   ]
  },
  {
   "cell_type": "code",
   "execution_count": 26,
   "id": "9737a61f-fd6f-453b-b379-c6866f907806",
   "metadata": {},
   "outputs": [
    {
     "name": "stderr",
     "output_type": "stream",
     "text": [
      "100%|██████████| 10/10 [40:23<00:00, 242.39s/it]\n"
     ]
    }
   ],
   "source": [
    "lr = 0.01\n",
    "\n",
    "log_interval = 100\n",
    "\n",
    "optimizer = torch.optim.SGD(model.parameters(), lr=lr)\n",
    "\n",
    "train_losses = []\n",
    "train_counter = []\n",
    "test_losses = []\n",
    "test_correct = []\n",
    "train_correct = []\n",
    "for epoch in tqdm(range(no_of_epochs)):\n",
    "    train_loss, counter = train_one_epoch(train_dataloader, model, DEVICE, optimizer, log_interval, epoch)\n",
    "    test_loss, num_correct = test_one_epoch(test_dataloader, model, DEVICE)\n",
    "    _, num_correct_train = test_one_epoch(train_dataloader, model, DEVICE)\n",
    "\n",
    "    # record results\n",
    "    train_losses.extend(train_loss)\n",
    "    train_counter.extend(counter)\n",
    "    test_losses.append(test_loss)\n",
    "    test_correct.append(num_correct)\n",
    "    train_correct.append(num_correct_train)"
   ]
  },
  {
   "cell_type": "code",
   "execution_count": 27,
   "id": "142cfa75-d499-4bdd-84de-21b5150b7e6b",
   "metadata": {},
   "outputs": [
    {
     "name": "stdout",
     "output_type": "stream",
     "text": [
      "test accuracy: 0.985\n",
      "train accuracy: 0.9872557471264368\n"
     ]
    }
   ],
   "source": [
    "print(f\"test accuracy: {test_correct[-1]/len(test_dataloader.dataset)}\")\n",
    "print(f\"train accuracy: {train_correct[-1]/len(train_dataloader.dataset)}\")"
   ]
  },
  {
   "cell_type": "code",
   "execution_count": 28,
   "id": "3c0816b2-039d-41dd-815d-5ff10e6a8fd4",
   "metadata": {},
   "outputs": [],
   "source": [
    "SAVE_PATH = \"../../data/googlenet_asl_v0.pth\""
   ]
  },
  {
   "cell_type": "code",
   "execution_count": 29,
   "id": "17469be0-ce03-490e-9db0-2454604ae1d5",
   "metadata": {},
   "outputs": [],
   "source": [
    "torch.save(model, SAVE_PATH)"
   ]
  },
  {
   "cell_type": "code",
   "execution_count": 30,
   "id": "f590cd91-e8b7-4373-9e20-5003d17b41b8",
   "metadata": {},
   "outputs": [
    {
     "data": {
      "image/png": "[encoded data removed]",
      "text/plain": [
       "<Figure size 640x480 with 1 Axes>"
      ]
     },
     "metadata": {},
     "output_type": "display_data"
    }
   ],
   "source": [
    "sns.lineplot(train_losses)\n",
    "plt.ylabel(\"train loss\");"
   ]
  },
  {
   "cell_type": "code",
   "execution_count": 31,
   "id": "6fa74430-f83c-40b6-803e-64bb1a0c54fc",
   "metadata": {},
   "outputs": [
    {
     "data": {
      "image/png": "[encoded data removed]",
      "text/plain": [
       "<Figure size 640x480 with 1 Axes>"
      ]
     },
     "metadata": {},
     "output_type": "display_data"
    }
   ],
   "source": [
    "sns.lineplot(test_losses, color=\"orange\")\n",
    "plt.ylabel(\"test loss\");"
   ]
  }
 ],
 "metadata": {
  "kernelspec": {
   "display_name": "Python 3 (ipykernel)",
   "language": "python",
   "name": "python3"
  },
  "language_info": {
   "codemirror_mode": {
    "name": "ipython",
    "version": 3
   },
   "file_extension": ".py",
   "mimetype": "text/x-python",
   "name": "python",
   "nbconvert_exporter": "python",
   "pygments_lexer": "ipython3",
   "version": "3.9.15"
  }
 },
 "nbformat": 4,
 "nbformat_minor": 5
}
